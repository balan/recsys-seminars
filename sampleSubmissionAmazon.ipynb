{
 "cells": [
  {
   "cell_type": "markdown",
   "metadata": {
    "id": "f0etzxq3qlG3"
   },
   "source": [
    "## Обзор доступных данных\n",
    "\n",
    "В качестве данных мы будем использовать датасет, содержащий оценки пользователями товаров, представленных на платформе Amazon:\n",
    "\n",
    "https://www.kaggle.com/c/recsystem-for-amazon-icl/overview\n",
    "\n",
    "Обучающая выборка содержат следующие признаки: \n",
    "<ul>\n",
    "<li><strong>userId</strong> - ID пользователя </li>\n",
    "<li><strong>productId</strong> - ID продукта </li>\n",
    "<li><strong>Rating</strong> - оценка соответствующего продукта от соответствующего пользователя </li>\n",
    "</ul>\n",
    "\n",
    "В тестовой выборке отсутствует признак Rating. \n",
    "\n",
    "Всего в выборке 42469 оценок, которые мы разбили на обучающую и тестовую части.  \n"
   ]
  },
  {
   "cell_type": "markdown",
   "metadata": {
    "id": "66wCIoKpqlG5"
   },
   "source": [
    "# 1. Загрузить данные для обучения\n",
    "\n",
    "## 1.1 Загружаем библиотеки \n",
    "\n",
    "Для решения задачи нам понадобятся уже знакомые: \n",
    "* библиотека **pandas** для работы с табличными данными (Excel, CSV и др.);\n",
    "* библиотека **numpy** для обработки массивов чисел, с помощью которой можно быстро создавать массивы, производить над ними вычисления, сортировать и т.д.\n",
    "* библиотека **matplotlib** для работы с двумерной и трехмерной графиков;\n",
    "\n",
    "* библиотека **scikit-learn**, де-факто наиболее популярный, разносторонний, хорошо документированный и постоянно обогащающийся инструмент для построения моделей машинного обучения;"
   ]
  },
  {
   "cell_type": "code",
   "execution_count": null,
   "metadata": {
    "_cell_guid": "b1076dfc-b9ad-4769-8c92-a6c4dae69d19",
    "_uuid": "8f2839f25d086af736a60e9eeb907d3b93b6e0e5",
    "id": "7xAJ6TyXqlG6"
   },
   "outputs": [],
   "source": [
    "import pandas as pd \n",
    "import numpy as np \n",
    "\n",
    "import matplotlib\n",
    "%matplotlib inline\n",
    "\n",
    "import sklearn"
   ]
  },
  {
   "cell_type": "markdown",
   "metadata": {
    "id": "dijbQxypqlHF"
   },
   "source": [
    "Отключим лишние предупреждения."
   ]
  },
  {
   "cell_type": "code",
   "execution_count": null,
   "metadata": {
    "id": "FVpHC9nKcs5u"
   },
   "outputs": [],
   "source": [
    "import warnings; warnings.simplefilter('ignore')"
   ]
  },
  {
   "cell_type": "markdown",
   "metadata": {
    "id": "Yz36qvWadD8Q"
   },
   "source": [
    "Для создания алгоритмов рекомендательной системы, будем использовать библиотеку **surprise**.\n",
    "\n",
    "Документация библиотеки доступна по ссылке http://surpriselib.com/."
   ]
  },
  {
   "cell_type": "code",
   "execution_count": null,
   "metadata": {
    "id": "I53k7zArdGbU"
   },
   "outputs": [],
   "source": [
    "!pip install surprise\n",
    "\n",
    "import surprise"
   ]
  },
  {
   "cell_type": "markdown",
   "metadata": {
    "id": "c_zy1NfLdMZP"
   },
   "source": [
    "## 1.2. Загрузим данные\n",
    "\n"
   ]
  },
  {
   "cell_type": "code",
   "execution_count": null,
   "metadata": {
    "id": "Z1XjucMisd65"
   },
   "outputs": [],
   "source": [
    "IN_COLAB = False\n",
    "\n",
    "if IN_COLAB:\n",
    "    !wget https://www.dropbox.com/s/y5glirn7hi88don/train.csv\n",
    "    !wget https://www.dropbox.com/s/9ie39fr09lbfo52/test.csv\n",
    "    train_data = pd.read_csv('train.csv')\n",
    "    test_data = pd.read_csv('test.csv')\n",
    "else:\n",
    "    train_data = pd.read_csv('./data/train.csv')\n",
    "    test_data = pd.read_csv('./data/test.csv')"
   ]
  },
  {
   "cell_type": "markdown",
   "metadata": {
    "id": "NkIAflYgdYxS"
   },
   "source": [
    "Проверим, что данные загрузились правильно:"
   ]
  },
  {
   "cell_type": "code",
   "execution_count": null,
   "metadata": {
    "id": "23CucGFyqlHQ"
   },
   "outputs": [],
   "source": [
    "train_data.head()"
   ]
  },
  {
   "cell_type": "markdown",
   "metadata": {
    "id": "Q2G768H9dd2V"
   },
   "source": [
    "Проверим размерность данных:"
   ]
  },
  {
   "cell_type": "code",
   "execution_count": null,
   "metadata": {
    "id": "tuFUa835qlHW"
   },
   "outputs": [],
   "source": [
    "train_data.shape"
   ]
  },
  {
   "cell_type": "markdown",
   "metadata": {
    "id": "DSbJfvB5eXOY"
   },
   "source": [
    "## 1.3. Первичный анализ данных"
   ]
  },
  {
   "cell_type": "markdown",
   "metadata": {
    "id": "hj78W3HrdjLC"
   },
   "source": [
    "Проверим типы в данных и количество NaN-ов:"
   ]
  },
  {
   "cell_type": "code",
   "execution_count": null,
   "metadata": {
    "id": "VxOCSusJqlHp"
   },
   "outputs": [],
   "source": [
    "train_data.info()"
   ]
  },
  {
   "cell_type": "markdown",
   "metadata": {
    "id": "e1jDQbN3dsct"
   },
   "source": [
    "Найдём минимальный и максимальные рейтинги:\n"
   ]
  },
  {
   "cell_type": "code",
   "execution_count": null,
   "metadata": {
    "id": "RB3ntQpQqlH1"
   },
   "outputs": [],
   "source": [
    "print('Minimum rating is: %d' %(train_data.Rating.min()))\n",
    "print('Maximum rating is: %d' %(train_data.Rating.max()))"
   ]
  },
  {
   "cell_type": "markdown",
   "metadata": {
    "id": "C5QCaE-beB-q"
   },
   "source": [
    "Посмотрим на распределение рейтингов:"
   ]
  },
  {
   "cell_type": "code",
   "execution_count": null,
   "metadata": {
    "id": "bJg20Ym5d4X7"
   },
   "outputs": [],
   "source": [
    "train_data.Rating.hist(figsize=(8, 6))"
   ]
  },
  {
   "cell_type": "markdown",
   "metadata": {
    "id": "8m9duMTXeK-j"
   },
   "source": [
    "Пользователи часто ставят оценку 5."
   ]
  },
  {
   "cell_type": "markdown",
   "metadata": {
    "id": "ookiY9snqlIL"
   },
   "source": [
    "**Упражнение:** сколько уникальных пользователей в выборке, а товаров?"
   ]
  },
  {
   "cell_type": "code",
   "execution_count": null,
   "metadata": {
    "id": "B2G_m5pP6iU2"
   },
   "outputs": [],
   "source": [
    "train_data.describe().T"
   ]
  },
  {
   "cell_type": "code",
   "execution_count": null,
   "metadata": {
    "id": "kRJ26rk_fa3X"
   },
   "outputs": [],
   "source": [
    "train_data.userId.nunique()\n"
   ]
  },
  {
   "cell_type": "markdown",
   "metadata": {
    "id": "xUYGdDJNfUo8"
   },
   "source": [
    "**Упражнение:** сколько оценок в среднем делает пользователь?"
   ]
  },
  {
   "cell_type": "code",
   "execution_count": null,
   "metadata": {
    "id": "gocop8wEfctr"
   },
   "outputs": [],
   "source": [
    "train_data.groupby(['userId', 'Rating'])['userId'].count().head()"
   ]
  },
  {
   "cell_type": "markdown",
   "metadata": {
    "id": "JASszmxtqlJy"
   },
   "source": [
    "### 2. Обучить модель\n",
    "\n",
    "### Алгоритм KNN. Коллаборативная фильтрация по схожести пользователей"
   ]
  },
  {
   "cell_type": "markdown",
   "metadata": {
    "id": "LRru-DEEfsuK"
   },
   "source": [
    "Из библиотеки **surprise** импортируем специальный классы **Reader, Dataset**, которые позволят удобнее работать с данными."
   ]
  },
  {
   "cell_type": "code",
   "execution_count": null,
   "metadata": {
    "id": "H_KVThACfzP1"
   },
   "outputs": [],
   "source": [
    "from surprise import Reader\n",
    "from surprise import Dataset"
   ]
  },
  {
   "cell_type": "code",
   "execution_count": null,
   "metadata": {
    "id": "ImVgJ5Pnf0V0"
   },
   "outputs": [],
   "source": [
    "reader = Reader(sep=',', rating_scale=(1, 5))\n",
    "train = Dataset.load_from_df(train_data, reader)\n",
    "train = train.build_full_trainset()"
   ]
  },
  {
   "cell_type": "markdown",
   "metadata": {
    "id": "mn127HadgFF3"
   },
   "source": [
    "В качестве baseline рассмотрим KNN, который использует схожесть **товаров** по косинусной метрике. "
   ]
  },
  {
   "cell_type": "code",
   "execution_count": null,
   "metadata": {
    "id": "crySXB5fqlJy"
   },
   "outputs": [],
   "source": [
    "from surprise import KNNBasic\n",
    "from surprise import accuracy"
   ]
  },
  {
   "cell_type": "code",
   "execution_count": null,
   "metadata": {
    "id": "RXifl4Y4qlJ-"
   },
   "outputs": [],
   "source": [
    "algo = KNNBasic(k=3, sim_options={'name': 'cosine', 'user_based': False})\n",
    "algo.fit(train)"
   ]
  },
  {
   "cell_type": "code",
   "execution_count": null,
   "metadata": {
    "id": "saKzsIqFqlJ_"
   },
   "outputs": [],
   "source": [
    "# run the trained model against the testset\n",
    "test_pred = algo.test(test_data[['userId', 'productId', 'Rating']].values)"
   ]
  },
  {
   "cell_type": "code",
   "execution_count": null,
   "metadata": {
    "id": "MiNtKyYUSq4z"
   },
   "outputs": [],
   "source": [
    "def prepare_surprise_predictoin_for_kaggle(test_pred):\n",
    "    key_list = []\n",
    "    rate_list = [] \n",
    "\n",
    "    for i in range(0, len(test_pred)):\n",
    "        key_list.append((test_pred[i][0], test_pred[i][1]))\n",
    "        rate_list.append(test_pred[i][3])\n",
    "\n",
    "    predictions = pd.DataFrame(np.transpose([key_list, rate_list]), columns=['Keys', 'Predicted rating'])\n",
    "    return predictions"
   ]
  },
  {
   "cell_type": "code",
   "execution_count": null,
   "metadata": {
    "id": "UQ6n6IYx0pjH"
   },
   "outputs": [],
   "source": [
    "pred_data = prepare_surprise_predictoin_for_kaggle(test_pred)"
   ]
  },
  {
   "cell_type": "code",
   "execution_count": null,
   "metadata": {
    "id": "64ddj7Gn91zS"
   },
   "outputs": [],
   "source": [
    "pred_data.to_csv('predictions.csv', index=False)"
   ]
  },
  {
   "cell_type": "markdown",
   "metadata": {
    "id": "7w9cMGXCnjDU"
   },
   "source": [
    "# Идеи для дальнейшей работы: "
   ]
  },
  {
   "cell_type": "markdown",
   "metadata": {
    "id": "CLYT6_IinuCL"
   },
   "source": [
    "**1. Попробовать другие расстояния для модели** \n",
    "\n",
    "Для коллаборативной фильтрации можно попробовать различные расстояния: косинусное, корреляции Пирсона итд. \n",
    "\n",
    "**2. Попробовать другие модели**\n",
    "\n",
    "Мы рассмотрели только одну модель user-based коллаборативной фильтрации. Рассмотрите item-based коллаборативную фильтрацию, алгоритм SVD.\n",
    "\n",
    "**3. Подобрать параметры модели** \n",
    "Можно использовать метод GridSearch из библиотеки surprise. \n"
   ]
  }
 ],
 "metadata": {
  "colab": {
   "collapsed_sections": [],
   "name": "sampleSubmissionAmazon.ipynb",
   "provenance": []
  },
  "kernelspec": {
   "display_name": "Python 3",
   "language": "python",
   "name": "python3"
  },
  "language_info": {
   "codemirror_mode": {
    "name": "ipython",
    "version": 3
   },
   "file_extension": ".py",
   "mimetype": "text/x-python",
   "name": "python",
   "nbconvert_exporter": "python",
   "pygments_lexer": "ipython3",
   "version": "3.7.10"
  }
 },
 "nbformat": 4,
 "nbformat_minor": 1
}
