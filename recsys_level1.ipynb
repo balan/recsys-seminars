{
 "cells": [
  {
   "cell_type": "markdown",
   "metadata": {
    "collapsed": true,
    "id": "Y4hNYuBMxyoa"
   },
   "source": [
    "# Рекомендательные системы"
   ]
  },
  {
   "cell_type": "markdown",
   "metadata": {
    "id": "qYGpzP9Wxyoc"
   },
   "source": [
    "Идея рекомендательных систем на основе ближайшего соседа – использовать предпочтения некоторой группы людей, похожих на данного пользователя, чтобы рекомендовать ему что-либо.\n",
    "\n",
    "У такой модели много применений:\n",
    "    \n",
    "   * рекомендация товаров интернет-магазинов\n",
    "   * рекомендация музыки или фильмов\n",
    "   * рекомендация людей/контента в социальных сетях"
   ]
  },
  {
   "cell_type": "markdown",
   "metadata": {
    "collapsed": true,
    "id": "kAuT-D94xyod"
   },
   "source": [
    "![](amazon.jpg)\n",
    "\n",
    "<a href=\"https://drive.google.com/uc?id=1jAZLpihYxu_FPvN9PIJ1G4S_KvO_6Ku6\n",
    "\" target=\"_blank\"><img src=\"https://drive.google.com/uc?id=1buQlTY5D-uT18rsjmp-hO60sjtN0rpXg\" \n",
    "alt=\"IMAGE ALT TEXT HERE\" width=\"700\" border=\"0\" /></a>\n"
   ]
  },
  {
   "cell_type": "markdown",
   "metadata": {
    "id": "Dk3ekSpTxyoe"
   },
   "source": [
    "**Пример рекомендательной системы Amazon.com**"
   ]
  },
  {
   "cell_type": "markdown",
   "metadata": {
    "id": "kVL4BOUmxyof"
   },
   "source": [
    "![](imdb.png)\n",
    "\n",
    "<a href=\"https://drive.google.com/uc?id=1jAZLpihYxu_FPvN9PIJ1G4S_KvO_6Ku6\n",
    "\" target=\"_blank\"><img src=\"https://drive.google.com/uc?id=1zEIj_g4A-5assEIxY7UCQpLMsaETmyCi\" \n",
    "alt=\"IMAGE ALT TEXT HERE\" width=\"700\" border=\"0\" /></a>\n"
   ]
  },
  {
   "cell_type": "markdown",
   "metadata": {
    "id": "HKjLouqcxyog"
   },
   "source": [
    "**Рекомендация фильмов от IMDb**"
   ]
  },
  {
   "cell_type": "markdown",
   "metadata": {
    "id": "qyeCkv1Yxyoh"
   },
   "source": [
    "Естественный способ получить рекомендацию о чем-либо - спросить мнение об этом у друзей или любых людей, которым нравится то же, что и вам. Эту идею можно использовать и для машины: для каждого человека алгоритм просматривает большую группу людей и ищет в ней подгруппу с похожим на данного человека вкусом. Далее создается список того, что еще нравится этим людям, а затем человеку рекомендуются предложения из этого списка. Такой алгоритм называется алгоритмом **коллаборативной фильтрации**. "
   ]
  },
  {
   "cell_type": "markdown",
   "metadata": {
    "id": "Gyar1-zixyoi"
   },
   "source": [
    "**Отключаем предупреждения**\n",
    "\n",
    "Библиотека **warnings** отвечает за то, какие предупреждения (warnings) о работе будут выводиться пользователю. \n",
    "FutureWarning - предупреждения о том, как изменится работа библиотек в будущих версиях. Такие предупреждения мы будем игнорировать.\n",
    "Чтобы включить режим игнорирования, мы отбираем все предупреждения из категории FutureWarning и выбираем для них действия 'ignore'.\n",
    "Это делается вызовом функции simplefilter c задание двух атрибутов: действия action и категории предупреждений category.\n",
    "\n",
    "**Code 0:**"
   ]
  },
  {
   "cell_type": "code",
   "execution_count": null,
   "metadata": {
    "id": "ckjaZ99Bxyoj"
   },
   "outputs": [],
   "source": [
    "import warnings\n",
    "warnings.filterwarnings(\"ignore\")"
   ]
  },
  {
   "cell_type": "markdown",
   "metadata": {
    "id": "KVU_vx2kxyon"
   },
   "source": [
    "Для красивого вывода на экран сложных объектов будем использовать **pprint**"
   ]
  },
  {
   "cell_type": "code",
   "execution_count": null,
   "metadata": {
    "id": "C98_ZyD-xyoo"
   },
   "outputs": [],
   "source": [
    "import pprint\n",
    "pp = pprint.PrettyPrinter(indent=4)"
   ]
  },
  {
   "cell_type": "markdown",
   "metadata": {
    "id": "6Rcimj60xyoq"
   },
   "source": [
    "### Подготовка данных"
   ]
  },
  {
   "cell_type": "markdown",
   "metadata": {
    "id": "W1k3PWS_xyor"
   },
   "source": [
    "Чтобы хранить сразу много предпочтений для каждого человека, удобнее всего воспользоваться **вложенным словарем**. \n",
    "\n",
    "Самый простой способ создать словарь в python - использовать фигурные скобки {}. Данные в словаре хранятся в формате ключ – значение, разделенные двоеточием:\n",
    "\n",
    "```python\n",
    "dict = {'key': 'value'}\n",
    "```\n",
    "\n",
    "Мы будем работать с *вложенным словарем* кинокритиков и выставленных ими оценок для небольшого набора данных о фильмах. Построим его следующим образом:\n",
    "\n",
    "1) для каждого кинокритика создаем словарь оценок фильмов в формате\n",
    "   ```python\n",
    "    scores_dict = {\n",
    "        'film_1': 'score_1', \n",
    "        'film_2': 'score_2', \n",
    "        ...\n",
    "    }\n",
    "   ```\n",
    "   \n",
    "2) создаем словарь кинокритиков, где в качестве значений будет соответствующий ему словарь оценок\n",
    "   ```python\n",
    "     critics = {\n",
    "         'name_1': 'scores_dict_1', \n",
    "         'name_2': 'scores_dict_2',\n",
    "         ...\n",
    "     }\n",
    "   ```\n",
    "   \n",
    "**Code 1:**"
   ]
  },
  {
   "cell_type": "code",
   "execution_count": null,
   "metadata": {
    "id": "rW47UBSVxyos"
   },
   "outputs": [],
   "source": [
    "# Словарь кинокритиков и выставленных ими оценок\n",
    "critics={'Lisa Rose': {'Lady in the Water': 2.5, 'Snakes on a Plane': 3.5,\n",
    " 'Just My Luck': 3.0, 'Superman Returns': 3.5, 'You, Me and Dupree': 2.5, \n",
    " 'The Night Listener': 3.0},\n",
    "'Gene Seymour': {'Lady in the Water': 3.0, 'Snakes on a Plane': 3.5, \n",
    " 'Just My Luck': 1.5, 'Superman Returns': 5.0, 'The Night Listener': 3.0, \n",
    " 'You, Me and Dupree': 3.5}, \n",
    "'Michael Phillips': {'Lady in the Water': 2.5, 'Snakes on a Plane': 3.0,\n",
    " 'Superman Returns': 3.5, 'The Night Listener': 4.0},\n",
    "'Claudia Puig': {'Snakes on a Plane': 3.5, 'Just My Luck': 3.0,\n",
    " 'The Night Listener': 4.5, 'Superman Returns': 4.0, \n",
    " 'You, Me and Dupree': 2.5},\n",
    "'Mick LaSalle': {'Lady in the Water': 3.0, 'Snakes on a Plane': 4.0, \n",
    " 'Just My Luck': 2.0, 'Superman Returns': 3.0, 'The Night Listener': 3.0,\n",
    " 'You, Me and Dupree': 2.0}, \n",
    "'Jack Matthews': {'Lady in the Water': 3.0, 'Snakes on a Plane': 4.0,\n",
    " 'The Night Listener': 3.0, 'Superman Returns': 5.0, 'You, Me and Dupree': 3.5},\n",
    "'Toby': {'Snakes on a Plane':4.5,'You, Me and Dupree':1.0,'Superman Returns':4.0}}"
   ]
  },
  {
   "cell_type": "code",
   "execution_count": null,
   "metadata": {
    "id": "PeqIatl7xyov"
   },
   "outputs": [],
   "source": [
    "pp.pprint(critics)"
   ]
  },
  {
   "cell_type": "markdown",
   "metadata": {
    "id": "fhKbiEVUxyo1"
   },
   "source": [
    "**Code 2:**  \n",
    "**Упражнение.** Выведите оценки, которые выставил Toby"
   ]
  },
  {
   "cell_type": "code",
   "execution_count": null,
   "metadata": {
    "id": "shl5uOURxyo1"
   },
   "outputs": [],
   "source": [
    "# your code here"
   ]
  },
  {
   "cell_type": "markdown",
   "metadata": {
    "id": "m-DbnG-Lxyo4"
   },
   "source": [
    "**Code 3:**  \n",
    "**Упражнение.** Выведите оценку критика Lisa Rose для фильма Lady in the Water"
   ]
  },
  {
   "cell_type": "code",
   "execution_count": null,
   "metadata": {
    "id": "_e4_I81Vxyo5"
   },
   "outputs": [],
   "source": [
    "# your code here"
   ]
  },
  {
   "cell_type": "markdown",
   "metadata": {
    "id": "cf4lbaFSxyo7"
   },
   "source": [
    "### Критерий похожести"
   ]
  },
  {
   "cell_type": "markdown",
   "metadata": {
    "id": "iOgyFSQQxyo8"
   },
   "source": [
    "Как мы уже говорили, чтобы выделить подгруппу людей с похожим вкусом, необходимо как-то определить, насколько люди похожи. В нашем случае мы будем сравнивать оценки людей у одинаковых фильмов. Мы рассмотрим два способа сравнения. С помощью \n",
    "- расстояния Евклида \n",
    "- корреляции Пирсона"
   ]
  },
  {
   "cell_type": "markdown",
   "metadata": {
    "id": "88OOgKKXxyo9"
   },
   "source": [
    "**Оценка по евклидову расстоянию**"
   ]
  },
  {
   "cell_type": "markdown",
   "metadata": {
    "id": "2UhBb6NWxyo9"
   },
   "source": [
    "Евклидово расстояние для точек $x = (x_1, x_2, ... , x_n)$ и $y = (y_1, y_2, ... , y_n)$ определяется следующим образом:\n",
    "\n",
    "\\begin{equation}\n",
    "d(x, y) = \\sqrt{\\sum_{i = 1}^n (x_i - y_i)^2}\n",
    "\\end{equation}"
   ]
  },
  {
   "cell_type": "markdown",
   "metadata": {
    "id": "qJ3URIOrxyo-"
   },
   "source": [
    "Для вычисления квадратного корня можно воспользоваться готовой функцией **sqrt()** из библиотеки для работы с числами **math**:\n",
    "\n",
    "**Code 4:**"
   ]
  },
  {
   "cell_type": "code",
   "execution_count": null,
   "metadata": {
    "id": "yi82VNh0xyo_"
   },
   "outputs": [],
   "source": [
    "from math import sqrt"
   ]
  },
  {
   "cell_type": "markdown",
   "metadata": {
    "id": "sPSNyHX5xypC"
   },
   "source": [
    "Для понимания расстояния Евклида рассмотрим случай, когда *n = 2*. То есть каждый объект выборки (точка) описывается двумя параметрами (координатами). $x = (x_1, x_2)$ и $y = (y_1, y_2)$. Тогда Евклидово расстояние равно расстоянию между точками на плоскости.\n",
    "\n",
    "\\begin{equation}\n",
    "d(x, y) = \\sqrt{\\sum_{i = 1}^n (x_i - y_i)^2} = \\sqrt{(x_2 - x_1)^2 + (y_2 - y_1)^2}\n",
    "\\end{equation}\n",
    "\n",
    "Или, если представить задачу геометрически:\n",
    "\n",
    "<a href=\"https://drive.google.com/uc?id=1jAZLpihYxu_FPvN9PIJ1G4S_KvO_6Ku6\n",
    "\" target=\"_blank\"><img src=\"https://drive.google.com/uc?id=1BXgfArl4T8N2M4eFur3JrsGloGWDDAlb\" \n",
    "alt=\"IMAGE ALT TEXT HERE\" width=\"300\" border=\"0\" /></a>\n"
   ]
  },
  {
   "cell_type": "markdown",
   "metadata": {
    "id": "z9WNha1hvmhb"
   },
   "source": [
    "**Упражнение.**  \n",
    "Реализуйте функцию для вычисления расстояния Евклида"
   ]
  },
  {
   "cell_type": "code",
   "execution_count": null,
   "metadata": {
    "id": "M8PyCnouvp-G"
   },
   "outputs": [],
   "source": [
    "def compute_euclid(x, y):\n",
    "    # your code here\n",
    "    pass"
   ]
  },
  {
   "cell_type": "markdown",
   "metadata": {
    "id": "MP5fk4udxypC"
   },
   "source": [
    "Для примера вычислим расстояния Евклида для близких точек с координатам (1, 1) и (2, 3):\n",
    "\n",
    "**Code 5:**"
   ]
  },
  {
   "cell_type": "code",
   "execution_count": null,
   "metadata": {
    "id": "1BJV1H73xypD"
   },
   "outputs": [],
   "source": [
    "compute_euclid([1, 1], [2, 3])"
   ]
  },
  {
   "cell_type": "markdown",
   "metadata": {
    "id": "QPl2ZDzSxypI"
   },
   "source": [
    "Теперь вычислим расстояния Евклида для точек, которые находятся далеко (1, 1) и (8, 10):\n",
    "\n",
    "**Code 6:**"
   ]
  },
  {
   "cell_type": "code",
   "execution_count": null,
   "metadata": {
    "id": "oS5NfMNHxypJ"
   },
   "outputs": [],
   "source": [
    "compute_euclid([1, 1], [8, 10])"
   ]
  },
  {
   "cell_type": "markdown",
   "metadata": {
    "id": "AZkWMa__xypL"
   },
   "source": [
    "Расстояние, вычисленное по этой формуле, будет тем меньше, чем больше сходство людей (чем ближе точки). Нам же нужна функция, значение которой будет, наоборот, большое, если люди сильно похожи друг на друга. То есть схожесть больше (от 0 до 1), если точки ближе друг другу\n",
    "\n",
    "\n",
    "Для этого будем использовать функцию \"похожести\" в таком виде:\n",
    "\n",
    "\\begin{equation}\n",
    "\\text{similarity }(x, y) = \\dfrac{1}{1 + d(x, y)},\n",
    "\\end{equation}\n",
    "\n",
    "где $d(x, y)$ - расстояние Евклида. "
   ]
  },
  {
   "cell_type": "markdown",
   "metadata": {
    "id": "S0BcscxQxypM"
   },
   "source": [
    "Пример вычисления сходства по новой функции для точек с координатами (1, 1) и (2, 3):\n",
    "\n",
    "**Code 7:**"
   ]
  },
  {
   "cell_type": "code",
   "execution_count": null,
   "metadata": {
    "id": "NthnN2f3xypN"
   },
   "outputs": [],
   "source": [
    "1 / (1 + compute_euclid([1, 1], [2, 3]))"
   ]
  },
  {
   "cell_type": "markdown",
   "metadata": {
    "id": "1FTeBZ00xypQ"
   },
   "source": [
    "Пример вычисления сходства по новой функции для точек с координатами (1, 1) и (8, 10):\n",
    "\n",
    "**Code 8:**"
   ]
  },
  {
   "cell_type": "code",
   "execution_count": null,
   "metadata": {
    "id": "UODSjEYaxypQ"
   },
   "outputs": [],
   "source": [
    "1 / (1 + compute_euclid([1, 1], [8, 10]))"
   ]
  },
  {
   "cell_type": "markdown",
   "metadata": {
    "id": "KxSbdwfTxypT"
   },
   "source": [
    "Далее реализуем несколько простых функций для коллаборативной фильтрации на основе ближайшего соседа. Чтобы воспользоваться ими, необходимо их импортировать из модуля **recommendations**:\n",
    "\n",
    "**Code 9:**"
   ]
  },
  {
   "cell_type": "code",
   "execution_count": null,
   "metadata": {
    "id": "Vzx4ZVoxxypU"
   },
   "outputs": [],
   "source": [
    "from recommendations import *"
   ]
  },
  {
   "cell_type": "markdown",
   "metadata": {
    "id": "QHfiH9dTxypX"
   },
   "source": [
    "Функцию для подсчета сходства двух критиков на основе расстояния Евклида реализована в модуле **recommendations** и называется **sim_distance()**. Функция принимает на вход три аргумента:\n",
    "* словарь критиков\n",
    "* имя первого критика для сравнения\n",
    "* имя второго критика для сравнения"
   ]
  },
  {
   "cell_type": "markdown",
   "metadata": {
    "id": "ravKDWOaxypY"
   },
   "source": [
    "Посмотрим, как работает эта функция для двух критиков Lisa Rose и Toby:\n",
    "\n",
    "**Code 10:**"
   ]
  },
  {
   "cell_type": "code",
   "execution_count": null,
   "metadata": {
    "id": "Dol4H8AgxypZ"
   },
   "outputs": [],
   "source": [
    "sim_distance(critics, 'Lisa Rose', 'Toby')"
   ]
  },
  {
   "cell_type": "markdown",
   "metadata": {
    "id": "WCtW_24Sxype"
   },
   "source": [
    "Эта функция работает также как:\n",
    "\n",
    "\\begin{equation}\n",
    "\\text{similarity }(x, y) = \\dfrac{1}{1 + d(x, y)},\n",
    "\\end{equation}\n",
    "\n",
    "где $d(x, y)$ - расстояние Евклида. \n",
    "\n",
    "Однако, по осям будет фильмы и оценки от критиков. Если у критиков нет одинаковых фильмов, то мы этих критиков не рассматриваем"
   ]
  },
  {
   "cell_type": "markdown",
   "metadata": {
    "id": "nMyTUfCbxypf"
   },
   "source": [
    "**Коэффициент корреляции Пирсона** "
   ]
  },
  {
   "cell_type": "markdown",
   "metadata": {
    "id": "0Bq9JuCExypg"
   },
   "source": [
    "Другой способ определять степень схожести - использовать коэффициент корреляции Пирсона. Этот коэффициент показывает, насколько два набора данных хорошо ложатся на прямую. "
   ]
  },
  {
   "cell_type": "markdown",
   "metadata": {
    "id": "Inb-3sBExyph"
   },
   "source": [
    "<a href=\"https://drive.google.com/uc?id=1jAZLpihYxu_FPvN9PIJ1G4S_KvO_6Ku6\n",
    "\" target=\"_blank\"><img src=\"https://drive.google.com/uc?id=1qXZxG2sE3Y0oAcgayaEdN6nCYVunj_83\" \n",
    "alt=\"IMAGE ALT TEXT HERE\" width=\"800\" border=\"0\" /></a>"
   ]
  },
  {
   "cell_type": "markdown",
   "metadata": {
    "id": "LRepT7krxypi"
   },
   "source": [
    "Два кинокритика со средним значением корреляции 0.41 (слева) и два кинокритика с высоким значением корреляции 0.75 (справа).  "
   ]
  },
  {
   "cell_type": "markdown",
   "metadata": {
    "id": "uKzTDyNcxypj"
   },
   "source": [
    "Корреляция Пирсона считается по формуле:     \n",
    "\\begin{equation}\n",
    "    \\text{corr}(x, y) = \\dfrac{\\sum_{i = 1}^n (x_i - \\overline x) (y_i - \\overline y)}{\\sqrt{\\sum_{i = 1}^n (x_i - \\overline x)^2 \\sum_{i = 1}^n (y_i - \\overline y)^2}}\n",
    "\\end{equation}\n",
    "где $\\overline x = \\frac{1}{n}\\sum_{j = 1}^n x_j, \\overline y = \\frac{1}{n}\\sum_{j = 1}^n y_j$ - средние значения"
   ]
  },
  {
   "cell_type": "markdown",
   "metadata": {
    "id": "p3E7vXwAxypj"
   },
   "source": [
    "По аналогии с функцией **sim_distance()** в модуле **recommendations** реализована функция для подсчета сходства двух критиков на основе корреляции Пирсона. Она называется **sim_pearson()**. Функция принимает на вход те же самые аргументы, что и **sim_distance()**:\n",
    "* словарь критиков\n",
    "* имя первого критика для сравнения\n",
    "* имя второго критика для сравнения"
   ]
  },
  {
   "cell_type": "markdown",
   "metadata": {
    "collapsed": true,
    "id": "xsZWvacrxypk"
   },
   "source": [
    "Посмотрим, как работает эта функция для двух критиков Lisa Rose и Gene Seymour:\n",
    "\n",
    "**Code 11:**  \n",
    "**Задание.** Допишите функцию для вычисления корреляции Пирсона"
   ]
  },
  {
   "cell_type": "code",
   "execution_count": null,
   "metadata": {
    "id": "XBZxMyLAv7OU"
   },
   "outputs": [],
   "source": [
    "def pearson_corr(x, y):\n",
    "    numerator = 0\n",
    "    x_norm = 0\n",
    "    y_norm = 0\n",
    "\n",
    "    x_mean = sum(x) / len(x)\n",
    "    y_mean = sum(y) / len(y)\n",
    "    for i in range(len(x)):\n",
    "        numerator += (x[i] - x_mean) * (y[i] - y_mean)\n",
    "        x_norm += (x[i] - x_mean)**2\n",
    "        y_norm += (y[i] - y_mean)**2\n",
    "    \n",
    "    # your code here\n",
    "    return 0"
   ]
  },
  {
   "cell_type": "code",
   "execution_count": null,
   "metadata": {
    "id": "w-0G2kHBv_sM"
   },
   "outputs": [],
   "source": [
    "x = []\n",
    "y = []\n",
    "for film in critics['Lisa Rose']:\n",
    "    x.append(critics['Lisa Rose'][film])\n",
    "    y.append(critics['Gene Seymour'][film])\n",
    "\n",
    "print(pearson_corr(x, y))"
   ]
  },
  {
   "cell_type": "code",
   "execution_count": null,
   "metadata": {
    "id": "V4quusN2xypl"
   },
   "outputs": [],
   "source": [
    "sim_pearson(critics, 'Lisa Rose', 'Gene Seymour')"
   ]
  },
  {
   "cell_type": "code",
   "execution_count": null,
   "metadata": {
    "id": "2F-k6JIFwE9P"
   },
   "outputs": [],
   "source": [
    "from scipy.stats import pearsonr\n",
    "pearsonr(x, y)[0]"
   ]
  },
  {
   "cell_type": "markdown",
   "metadata": {
    "id": "llNUr_9xxypo"
   },
   "source": [
    "### Ранжирование критиков"
   ]
  },
  {
   "cell_type": "markdown",
   "metadata": {
    "id": "9GHarQp1xypp"
   },
   "source": [
    "После того как мы выбрали критерий для сравнения двух людей, можно начать искать для каждого человека подгруппу других людей с наиболее похожими вкусами. \n",
    "\n",
    "Для этого в модуле **recommendations** реализована функция **topMatches()**. Функция возвращает список n наилучших соответствий для человека из словаря critics. \n",
    "\n",
    "Соответственно, аргументы у функции: \n",
    "* словарь критиков *critics\\_dict*\n",
    "* имя персоны *person*, для которой подбираем соответствия \n",
    "* число *n* наилучших соответствий \n",
    "\n",
    "Кроме этого, так как мы хотим использовать различные расстояния, то в качестве аргумента мы будем также передавать имя функции-расстояния (*similarity*).  "
   ]
  },
  {
   "cell_type": "markdown",
   "metadata": {
    "id": "IICRst0Mxypp"
   },
   "source": [
    "Пример вычисления топ-3 критиков похожих на Toby по корреляции Пирсона:\n",
    "\n",
    "**Code 12:**"
   ]
  },
  {
   "cell_type": "code",
   "execution_count": null,
   "metadata": {
    "id": "CM0WA6yBxypq"
   },
   "outputs": [],
   "source": [
    "topMatches(critics, 'Toby', n=3, similarity=sim_pearson)"
   ]
  },
  {
   "cell_type": "markdown",
   "metadata": {
    "id": "l11l0LBWxyps"
   },
   "source": [
    "Как работает эта функция: \n",
    "*  считаем схожесть интересующего нас критика с каждым другим критиком используя функцию **similarity**\n",
    "*  сортируем результаты\n",
    "*  возвращаем топ **n** результатов"
   ]
  },
  {
   "cell_type": "markdown",
   "metadata": {
    "id": "a6zrN8IRxypt"
   },
   "source": [
    "**Code 13:**  \n",
    "**Упражнение** Вычислите топ-3 критиков похожих на Toby по евклидову расстоянию:"
   ]
  },
  {
   "cell_type": "code",
   "execution_count": null,
   "metadata": {
    "id": "63IHuLZSxypu"
   },
   "outputs": [],
   "source": [
    "# your code here"
   ]
  },
  {
   "cell_type": "markdown",
   "metadata": {
    "id": "UnsodNg7xypw"
   },
   "source": [
    "Выбор расстояния для подбора похожести зависит от конкретной задачи. Имеет смысл попробовать разные критерии и посмотреть, какой из них дает наилучший результат. "
   ]
  },
  {
   "cell_type": "markdown",
   "metadata": {
    "id": "C4Ok7gk1xypx"
   },
   "source": [
    "## Рекомендация фильмов (User-based подход)"
   ]
  },
  {
   "cell_type": "markdown",
   "metadata": {
    "id": "oigqx0dDxypy"
   },
   "source": [
    "Мы умеем находить людей с похожим мнением как у рассматриваемого человека. Но как получить конкретную рекомендацию с набором фильмов? Можно было бы просто посмотреть на то, какие фильмы понравились похожему человеку, и выбрать из них не просмотренные. Однако, такой способ не стабилен: можем, например, отобрать критика, которому по каким-то причинам понравился фильм, получивший негативные оценки от остальных. \n",
    "\n",
    "Чтобы разрешить эту проблему, можно ранжировать сами фильмы, вычисляя взвешенную сумму оценок критиков. Мы будем брать оценку фильма у критика и умножать его на коэффициент похожести с тем, для которого мы строим рекомендацию. Затем полученный результат суммировать и нормировать.  \n",
    "\n",
    "Идея такого подхода в том, что люди похожие на тебя вносят больший вклад в \"рейтинг\" фильма. "
   ]
  },
  {
   "cell_type": "markdown",
   "metadata": {
    "id": "Ep7vuCLpxypz"
   },
   "source": [
    "<a href=\"https://drive.google.com/uc?id=1jAZLpihYxu_FPvN9PIJ1G4S_KvO_6Ku6\n",
    "\" target=\"_blank\"><img src=\"https://drive.google.com/uc?id=1x0QC1Blvr_ZugJ5BKPJdi2Bp30FvBxvL\" \n",
    "alt=\"IMAGE ALT TEXT HERE\" width=\"500\" border=\"0\" /></a>"
   ]
  },
  {
   "cell_type": "markdown",
   "metadata": {
    "id": "CYT3JXArxypz"
   },
   "source": [
    "Этот подход реализован в модуле **recommendations** в функции **getRecommendations()**. Функция принимает на вход следующие аргументы: \n",
    "* словарь критиков *critics\\_dict*\n",
    "* имя персоны *person*, для которой подбираем соответствия \n",
    "* имя функции-критерия для сравнения\n",
    "\n",
    "**Code 14:**"
   ]
  },
  {
   "cell_type": "code",
   "execution_count": null,
   "metadata": {
    "id": "68nh1yH-xyp1"
   },
   "outputs": [],
   "source": [
    "getRecommendations(critics,'Toby', sim_pearson)"
   ]
  },
  {
   "cell_type": "markdown",
   "metadata": {
    "id": "HBxow-45xyp8"
   },
   "source": [
    "Как работает эта функция:\n",
    "*  считаем схожесть пользователя с каждым другим пользователем\n",
    "*  перебираем фильмы, которые смотрели другие пользователи, но не смотрел текущий пользователь\n",
    "*  нормируем рейтинг фильмов на основе того насколько он понравился другим пользователям, и того насколько каждый из других пользователей похож на текущего пользователя\n",
    "*  сортируем список"
   ]
  },
  {
   "cell_type": "markdown",
   "metadata": {
    "id": "pR4A_2uLxyp9"
   },
   "source": [
    "**Code 15:**"
   ]
  },
  {
   "cell_type": "code",
   "execution_count": null,
   "metadata": {
    "id": "H8LpwS_Xxyp9"
   },
   "outputs": [],
   "source": [
    "getRecommendations(critics,'Toby', sim_distance)"
   ]
  },
  {
   "cell_type": "markdown",
   "metadata": {
    "id": "O4HGFTxnxyqA"
   },
   "source": [
    "Мы получили ранжированный список фильмов, а также прогноз оценки, которую поставит Toby этим фильмам. "
   ]
  },
  {
   "cell_type": "markdown",
   "metadata": {
    "id": "QJmVZW0TxyqA"
   },
   "source": [
    "## Коллаборативная фильтрация по сходству объектов (Item-based collaborative filtering)"
   ]
  },
  {
   "cell_type": "markdown",
   "metadata": {
    "id": "dZAPvgpTxyqB"
   },
   "source": [
    "Мы реализовали механизм выдачи рекомендаций таким образом, что для создания набора данных необходимы оценки, выставленные каждым\n",
    "пользователем. Для нескольких тысяч людей это, возможно, и будет работать, но, когда речь идет о миллионах пользователей и товаров, сравнение каждого пользователя со всеми другими, а затем сравнение товаров, займет недопустимо много времени. "
   ]
  },
  {
   "cell_type": "markdown",
   "metadata": {
    "id": "f0nZBimVxyqC"
   },
   "source": [
    "<a href=\"https://drive.google.com/uc?id=1jAZLpihYxu_FPvN9PIJ1G4S_KvO_6Ku6\n",
    "\" target=\"_blank\"><img src=\"https://drive.google.com/uc?id=1Vd3ofIheUgmxDKLq72cVPTPyl5IyAxo0\" \n",
    "alt=\"IMAGE ALT TEXT HERE\" width=\"500\" border=\"0\" /></a>\n"
   ]
  },
  {
   "cell_type": "markdown",
   "metadata": {
    "id": "zis-eUSbxyqC"
   },
   "source": [
    "Техника, которую мы применяли до сих пор, называется **коллаборативной фильтрацией по схожести пользователей**. Альтернатива известна под названием **коллаборативная фильтрация по схожести образцов**. "
   ]
  },
  {
   "cell_type": "markdown",
   "metadata": {
    "id": "r2xvZzNpxyqD"
   },
   "source": [
    "Основная идея процедуры фильтрации по схожести образцов заключается в том, чтобы для каждого образца заранее вычислить большинство похожих на него. Тогда для выдачи рекомендаций алгоритму достаточно будет найти те образцы, которым пользователь выставил наивысшие оценки, а затем сформировать список образцов, максимально похожих на эти. \n",
    "\n",
    "Отметим одно существенное отличие: хотя на первом шаге необходимо исследовать все данные, результаты сравнения образцов изменяются не так часто, как результаты сравнения пользователей."
   ]
  },
  {
   "cell_type": "markdown",
   "metadata": {
    "id": "8jpIms0rxyqD"
   },
   "source": [
    "<a href=\"https://drive.google.com/uc?id=1jAZLpihYxu_FPvN9PIJ1G4S_KvO_6Ku6\n",
    "\" target=\"_blank\"><img src=\"https://drive.google.com/uc?id=1VAoSpaUcbabIFRWlXqrBFDs7LhIISkA5\" \n",
    "alt=\"IMAGE ALT TEXT HERE\" width=\"700\" border=\"0\" /></a>"
   ]
  },
  {
   "cell_type": "markdown",
   "metadata": {
    "collapsed": true,
    "id": "_8Z0LEmBxyqE"
   },
   "source": [
    "Чтобы сравнивать образцы, нужно первым делом построить полный набор данных о похожих образцах. В первую очередь, нам нужно переделать словарь предпочтений критиков таким образом, чтобы теперь был словарь фильмов и их оценок: \n",
    "```python\n",
    "film_dict = {\n",
    "    'film_name_1': \n",
    "    {'critic_1': 'score_1', \n",
    "     'critic_2': 'score_2', \n",
    "     ...\n",
    "    }, \n",
    "    ...\n",
    "}\n",
    "```\n",
    "Далее для каждого фильма посчитать наиболее похожие образцы и коэффициенты похожести для них. Для подсчета схожести будем использовать евклидово расстояние. \n",
    "\n",
    "В модуле **recommendations** есть функция **calculateSimilarItems()**, которая делает сразу оба шага. На вход её нужно подать словарь с оценками критиков *critics* и число образцов, которые мы считаем наиболее похожими (остальные не выводим).\n",
    "\n",
    "**Code 16:**"
   ]
  },
  {
   "cell_type": "code",
   "execution_count": null,
   "metadata": {
    "id": "mcnJJQ9cxyqG"
   },
   "outputs": [],
   "source": [
    "itemsim = calculateSimilarItems(critics, n=10)"
   ]
  },
  {
   "cell_type": "code",
   "execution_count": null,
   "metadata": {
    "id": "PwUnCFgqxyqJ"
   },
   "outputs": [],
   "source": [
    "pp.pprint(itemsim)"
   ]
  },
  {
   "cell_type": "markdown",
   "metadata": {
    "id": "XajxbUimxyqM"
   },
   "source": [
    "Получили вложенный словарь с фильмами и их похожестью на другие фильмы. "
   ]
  },
  {
   "cell_type": "markdown",
   "metadata": {
    "id": "fcsEaB_fxyqN"
   },
   "source": [
    "Теперь мы готовы выдавать рекомендации, пользуясь словарем данных о схожести образцов. По аналогии с тем, что мы уже делали, необходимо получить список всех образцов, которым пользователь выставлял оценки, найти похожие и взвесить их с учетом коэффициентов подобия (умножить оценку на коэффициент подобия). "
   ]
  },
  {
   "cell_type": "markdown",
   "metadata": {
    "id": "EpUyM57bxyqO"
   },
   "source": [
    "<a href=\"https://drive.google.com/uc?id=1jAZLpihYxu_FPvN9PIJ1G4S_KvO_6Ku6\n",
    "\" target=\"_blank\"><img src=\"https://drive.google.com/uc?id=1QIJpqC6zQkiQ-1-AzNSmvK4bc8fohsH1\" \n",
    "alt=\"IMAGE ALT TEXT HERE\" width=\"500\" border=\"0\" /></a>"
   ]
  },
  {
   "cell_type": "markdown",
   "metadata": {
    "id": "wmkuMQvaxyqP"
   },
   "source": [
    "Этот механизм реализован в функции **getRecommendedItems()** из **recommendations**. На вход подается:\n",
    "* словарь с оценками пользователя (в нашем случае это словарь критиков, *critics*)\n",
    "* словарь с данными о схожести образцов, *itemsim*\n",
    "* имя критика, для которого строим рекомендации"
   ]
  },
  {
   "cell_type": "markdown",
   "metadata": {
    "id": "JaUsLOhqxyqP"
   },
   "source": [
    "Получим рекомендации для пользователя Toby:\n",
    "\n",
    "**Code 17:**"
   ]
  },
  {
   "cell_type": "code",
   "execution_count": null,
   "metadata": {
    "id": "bC-V0ovMxyqQ"
   },
   "outputs": [],
   "source": [
    "getRecommendedItems(critics, itemsim, 'Toby')"
   ]
  },
  {
   "cell_type": "markdown",
   "metadata": {
    "id": "QZ2AV3PIxyqT"
   },
   "source": [
    "## Метрики качества для рекомендательных систем"
   ]
  },
  {
   "cell_type": "markdown",
   "metadata": {
    "id": "GNdfljpXxyqT"
   },
   "source": [
    "Для оценки качества работы рекомендательных систем можно рассмотреть две специальные метрики **Hit Rate** (HR) и **Mean Reciprocal Rank** (MRR).\n",
    "\n",
    "Определим как **попадание** (**hit**) - ситуацию, когда фильм был рекомендован пользователю в топ-N и пользователь посмотрел его. "
   ]
  },
  {
   "cell_type": "markdown",
   "metadata": {
    "id": "vXzO8K8DxyqU"
   },
   "source": [
    "**Hit Rate (HR)**"
   ]
  },
  {
   "cell_type": "markdown",
   "metadata": {
    "id": "494F_M5vxyqU"
   },
   "source": [
    "**Hit Rate (процент попаданий)** определяется как общее число попаданий, нормированное на количество пользователей. \n",
    "\n",
    "$$\n",
    "\\text{HR} = \\frac{1}{\\text{# test users}} \\sum_{\\text{test users}}{\\text{hit}}, \\quad\n",
    "$$\n",
    "\n",
    "Чем больше процент попаданий, тем лучше будет наша система рекомендаций."
   ]
  },
  {
   "cell_type": "markdown",
   "metadata": {
    "id": "MG2WBYqgxyqV"
   },
   "source": [
    "*Замечание*: в некотором смысле, Hit Rate представляет собой производное от классических ML метрик precision и recall. "
   ]
  },
  {
   "cell_type": "markdown",
   "metadata": {
    "id": "IqnXC-9ixyqX"
   },
   "source": [
    "**Mean Reciprocal Rank (MRR)**"
   ]
  },
  {
   "cell_type": "markdown",
   "metadata": {
    "id": "ZEB1TP_BxyqY"
   },
   "source": [
    "Отличие метрики **Mean Reciprocal Rank** от предыдущей в том, что мы учитываем не общее количество попаданий, а обратное рангу (месту в списке рекомендаций) **первое попадание**. Например, если фильм, просмотренный пользователем (попадание), стоял на втором месте, обратное рангу будет равно $\\frac{1}{2}$, а если бы стоял на третьем - $\\frac{1}{3}$ и так далее. "
   ]
  },
  {
   "cell_type": "markdown",
   "metadata": {
    "id": "4yY1VJGNxyqY"
   },
   "source": [
    "$$\n",
    "\\text{MRR} = \\frac{1}{\\text{# test users}} \\sum_{\\text{test users}}{\\frac{1}{\\text{hit rank}}}\n",
    "$$"
   ]
  },
  {
   "cell_type": "markdown",
   "metadata": {
    "id": "d69KOo96xyqb"
   },
   "source": [
    "Рассмотрим на примере. Toby получил следующий список рекомендаций: \n",
    "\n",
    "**Code 18:**"
   ]
  },
  {
   "cell_type": "code",
   "execution_count": null,
   "metadata": {
    "id": "LjqvONZLxyqe"
   },
   "outputs": [],
   "source": [
    "getRecommendations(critics,'Toby', sim_pearson)"
   ]
  },
  {
   "cell_type": "markdown",
   "metadata": {
    "id": "KAS5UJXxxyqh"
   },
   "source": [
    "Допустим, после этого Toby посмотрел 5 фильмов и выставил им следующие оценки:\n"
   ]
  },
  {
   "cell_type": "markdown",
   "metadata": {
    "id": "GlyQ_Jidxyqh"
   },
   "source": [
    "|Score|Film|\n",
    "|----|--------------------|\n",
    "|4.5 | The Departed |\n",
    "|4   | The Night Listener |\n",
    "|3.9 | Lady in the Water |\n",
    "|3.7 | The Firm |\n",
    "|3   | Just My Luck |"
   ]
  },
  {
   "cell_type": "markdown",
   "metadata": {
    "id": "VjT082gPxyqi"
   },
   "source": [
    "Как мы видим, только два фильма из списка рекомендаций попали в личный топ-3 Toby. Получается, что **попадание (hits)** у него 2.\n",
    "\n",
    "**HR = $\\dfrac{1}{1} * 2 = 2$**, так как выборка тестовых пользователей (test\\_users) состоит из одного Toby.  "
   ]
  },
  {
   "cell_type": "markdown",
   "metadata": {
    "id": "3Z2xaFKZxyqj"
   },
   "source": [
    "* **$\\frac{1}{hit\\_rank}$** для фильма The Night Listener - это $\\dfrac{1}{2}$\n",
    "* **$\\frac{1}{hit\\_rank}$** для фильма Lady in the Water - это $\\dfrac{1}{3}$\n",
    "\n",
    "Но фильм **The Night Listener** стоит выше в рейтинге Toby, чем **Lady in the Water**, поэтому:\n",
    "\n",
    "**MRR = $\\dfrac{1}{1}*\\dfrac{1}{2} = \\dfrac{1}{2}$**, так как, опять же, выборка тестовых пользователей (test\\_users) состоит из одного Toby.  "
   ]
  },
  {
   "cell_type": "markdown",
   "metadata": {
    "id": "RXDUM0i_xyqk"
   },
   "source": [
    "## Бонус* : Рекомендация на данных MovieLens"
   ]
  },
  {
   "cell_type": "markdown",
   "metadata": {
    "id": "glvuxPt_xyql"
   },
   "source": [
    "В этом примере мы рассмотрим реальный набор данных с оценками фильмов, который называется MovieLens. Источник данных: http://grouplens.org/datasets/movielens/"
   ]
  },
  {
   "cell_type": "markdown",
   "metadata": {
    "id": "_KySSudZxyqm"
   },
   "source": [
    "Датасет представляет собой набор фильмов, которые 162541 пользователей сайта MovieLens оценивали по 5-бальной шкале. В наборе также есть дополнительная информация такая как описание фильмов тегами, но в нашем упражнении мы её использовать не будем для упрощения. Также, чтобы уменьшить время вычислений, будем использовать данный только 943 пользователей. Каждый пользователь в датасете оценил минимум 20 фильмов.\n",
    "\n",
    "Загруженный датасет будет в следующем виде:\n",
    "\n",
    "```python\n",
    "\n",
    "preferences = {\n",
    "    'user_id_1' : {\n",
    "        'film_name_1' : rate,\n",
    "        'film_name_2' : rate,\n",
    "        ...\n",
    "        'film_name_21' : rate,\n",
    "    },\n",
    "    ...\n",
    "    'user_id_943' : {\n",
    "        'film_name_1' : rate,\n",
    "        'film_name_2' : rate,\n",
    "        ...\n",
    "        'film_name_30' : rate,\n",
    "    }\n",
    "}\n",
    "\n",
    "```\n"
   ]
  },
  {
   "cell_type": "markdown",
   "metadata": {
    "collapsed": true,
    "id": "eyZ81WEOxyqn"
   },
   "source": [
    "Чтобы загрузить набор данных MovieLens, в модуле **recommendations** есть функция **loadMovieLens()**. Она возвращает словарь предпочтений фильмов для набора людей. Пользователи зашифрованы идентификатором. Для каждого пользователя имеется название\n",
    "фильма, а также оценка, выставленная фильму данным пользователе.\n",
    "\n",
    "**Code 19:**"
   ]
  },
  {
   "cell_type": "code",
   "execution_count": null,
   "metadata": {},
   "outputs": [],
   "source": [
    "IN_COLAB = False\n",
    "\n",
    "if IN_COLAB:\n",
    "    !wget https://www.dropbox.com/sh/ob1qyfzqygkc6ph/AADg2G0By0EuRZCLR5gSAmP7a \n",
    "    !unzip AADg2G0By0EuRZCLR5gSAmP7a -d data\n",
    "    preferences = loadMovieLens()\n",
    "else:\n",
    "    preferences = loadMovieLens(path='./data/movielens')"
   ]
  },
  {
   "cell_type": "markdown",
   "metadata": {
    "id": "64VLkmzBxyqr"
   },
   "source": [
    "Выведем фильмы для пользователя с ID 87 и рейтинги этих фильмов\n",
    "\n",
    "**Code 20:**"
   ]
  },
  {
   "cell_type": "code",
   "execution_count": null,
   "metadata": {
    "id": "i45AlAQVxyqs"
   },
   "outputs": [],
   "source": [
    "pp.pprint(preferences['87'])"
   ]
  },
  {
   "cell_type": "markdown",
   "metadata": {
    "id": "mrdcACCAxyqv"
   },
   "source": [
    "Посмотрим, какие рекомендации получим с помощью коллаборативной фильтрации по схожести пользователей. Напомним, что для этого реализована функция **getRecommendations()**, которая выдает рекомендации для данного пользователя по похожести на других и предположительную его оценку фильму. \n",
    "\n",
    "Функция принимает на вход следующие аргументы: \n",
    "* словарь пользователей, в этом случае это *preferences*\n",
    "* имя персоны *person*, для которой подбираем соответствия \n",
    "* имя функции-критерия для сравнения\n",
    "\n",
    "Выведем первые топ-30 рекомендаций для пользователя с ID 87, для этого в квадратных скобочках укажем [0:30].\n",
    "\n",
    "*Замечание*: может появиться предупреждение RuntimeWarning, это связано с тем, что теперь мы работаем с большой выборкой и при подсчете корреляции Пирсона может возникать деление на ноль. В этом случае мы присваиваем корреляции значение ноль.\n",
    "\n",
    "**Code 21:**"
   ]
  },
  {
   "cell_type": "code",
   "execution_count": null,
   "metadata": {
    "id": "NO_XTe8vxyqw",
    "scrolled": true
   },
   "outputs": [],
   "source": [
    "# your code here\n",
    "getRecommendations(...)[0:30]"
   ]
  },
  {
   "cell_type": "markdown",
   "metadata": {
    "id": "zOAn6ue1xyqy"
   },
   "source": [
    "Интересно также сравнить полученный результат с рекомендациями по схожести образцов. Напомним, чтобы сравнить образцы, нужно в первую очередь перестроить наш набор данных из набора предпочтений пользователей в набор оценок фильмов. Для этого используем функцию **calculateSimilarItems()**. На вход её нужно подать словарь с оценками пользователей *prefernces*. Кроме этого, мы передадим аргумент *n = 50*, так как хотим оставить только 50 наиболее похожих образцов в новом словаре.  "
   ]
  },
  {
   "cell_type": "markdown",
   "metadata": {
    "id": "5hS6u5GExyqy"
   },
   "source": [
    "В этот раз мы работаем с большим набором данных и вычисления могут занять некоторое время, поэтому функция также будет выводить сообщение о том, сколько фильмов она уже просмотрела. \n",
    "\n",
    "**Code 22:**"
   ]
  },
  {
   "cell_type": "code",
   "execution_count": null,
   "metadata": {
    "id": "NQgL2SBBxyqz"
   },
   "outputs": [],
   "source": [
    "item_similarities = calculateSimilarItems(preferences, n=50)"
   ]
  },
  {
   "cell_type": "markdown",
   "metadata": {
    "id": "ms0cHm2lxyq1"
   },
   "source": [
    "Посмотрим на результат:\n",
    "\n",
    "**Code 23:**"
   ]
  },
  {
   "cell_type": "code",
   "execution_count": null,
   "metadata": {
    "id": "Unfusl__xyq2",
    "scrolled": true
   },
   "outputs": [],
   "source": [
    "item_similarities[\"What's Eating Gilbert Grape (1993)\"]"
   ]
  },
  {
   "cell_type": "markdown",
   "metadata": {
    "id": "YU16xvBpxyq6"
   },
   "source": [
    "Теперь получим топ-30 рекомендаций для пользователя с учетом похожести фильмов. Используем функцию **getRecommendedItems()**, которой на вход подается:\n",
    "* словарь с оценками пользователя (*preferences*)\n",
    "* словарь с данными о схожести фильмов, *item_similarities*\n",
    "* ID пользователя, для которого строим рекомендации\n",
    "\n",
    "**Code 24:**"
   ]
  },
  {
   "cell_type": "code",
   "execution_count": null,
   "metadata": {
    "id": "1ipmvlb-xyq6"
   },
   "outputs": [],
   "source": [
    "# your code here\n",
    "getRecommendedItems(...)[0:30]"
   ]
  },
  {
   "cell_type": "markdown",
   "metadata": {
    "id": "oF9qzVofxyq8"
   },
   "source": [
    "Выведем список фильмов, которые пользователь с id `87` оценил максимальным баллом:\n",
    "\n",
    "**Code 25:**"
   ]
  },
  {
   "cell_type": "code",
   "execution_count": null,
   "metadata": {
    "id": "l-Iqlmebxyq9",
    "scrolled": true
   },
   "outputs": [],
   "source": [
    "{x: preferences['87'][x] for x in preferences['87'] if preferences['87'][x] == 5}"
   ]
  },
  {
   "cell_type": "markdown",
   "metadata": {
    "id": "FJPAExlSxyq-"
   },
   "source": [
    "Валидация для моделей рекомендательных систем устроена достаточно сложно. \n",
    "Например, нам нужно забыть часть рейтингов фильмов для пользователя, а потом попытаться восстановить их с \n",
    "помощью нашей модели.\n",
    "\n",
    "В данном случае, мы можем оценить адекватность полученных рекомендаций, просмотрев списки фильмов. Однако, на текущем датасете, из-за размера выборки, такое сделать сложно. \n",
    "\n",
    "Приведем примеры интерпретации:\n",
    "* В случае использования расстояния, основанного на коррелции, модель рекомендует в первую очередь боевики\n",
    "* В случае использование похожестей фильмов мы видим как общепризнанные шедевры, так и боевики\n",
    "* В реальности пользователю нравятся фильмы, которые нравятся всем, приключенческие фильмы и боевики\n",
    "\n",
    "С такой точки зрения оба списка рекомендаций кажутся адекватным, а то, что они не пересекаются связано с тем, \n",
    "что есть много похожих друг на друга фильмов - и мы не можем рекомендовать сразу все такие фильмы пользователю.\n"
   ]
  },
  {
   "cell_type": "markdown",
   "metadata": {
    "id": "3m3xlZAmxyrA"
   },
   "source": [
    "Для рекомендательных систем есть специальные библиотеки, например, https://surprise.readthedocs.io/, однако их применение требует более глубокого знакомства с темой. "
   ]
  },
  {
   "cell_type": "code",
   "execution_count": null,
   "metadata": {
    "id": "CzlkwpiRC6bM"
   },
   "outputs": [],
   "source": []
  }
 ],
 "metadata": {
  "colab": {
   "collapsed_sections": [],
   "name": "recsys_level1.ipynb",
   "provenance": [],
   "toc_visible": true
  },
  "kernelspec": {
   "display_name": "Python 3",
   "language": "python",
   "name": "python3"
  },
  "language_info": {
   "codemirror_mode": {
    "name": "ipython",
    "version": 3
   },
   "file_extension": ".py",
   "mimetype": "text/x-python",
   "name": "python",
   "nbconvert_exporter": "python",
   "pygments_lexer": "ipython3",
   "version": "3.7.10"
  },
  "name": "lesson11_recsys.ipynb"
 },
 "nbformat": 4,
 "nbformat_minor": 1
}
